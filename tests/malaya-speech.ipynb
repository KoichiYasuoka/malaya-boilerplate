{
 "cells": [
  {
   "cell_type": "code",
   "execution_count": 1,
   "id": "1b7ca5ed",
   "metadata": {},
   "outputs": [],
   "source": [
    "version = '1.1'\n",
    "bump_version = '1.1.2'\n",
    "__version__ = bump_version\n",
    "\n",
    "import malaya_boilerplate\n",
    "\n",
    "malaya_boilerplate.__package__ = 'malaya-speech'\n",
    "malaya_boilerplate.__url__ = 'https://f000.backblazeb2.com/file/malaya-speech-model/'\n",
    "malaya_boilerplate.__package_version__ = version\n",
    "\n",
    "from malaya_boilerplate.utils import get_home\n",
    "\n",
    "__home__, _ = get_home()"
   ]
  },
  {
   "cell_type": "code",
   "execution_count": 2,
   "id": "b0af52bf",
   "metadata": {},
   "outputs": [],
   "source": [
    "from malaya_boilerplate.backblaze import check_file\n",
    "from malaya_boilerplate.frozen_graph import (\n",
    "    nodes_session,\n",
    "    generate_session,\n",
    "    get_device,\n",
    "    load_graph,\n",
    ")"
   ]
  },
  {
   "cell_type": "code",
   "execution_count": 3,
   "id": "25be6032",
   "metadata": {},
   "outputs": [],
   "source": [
    "TRANSDUCER_VOCAB = 'vocab/transducer.subword.subwords'\n",
    "TRANSDUCER_MIXED_VOCAB = 'vocab/transducer-mixed.subword.subwords'\n",
    "TRANSDUCER_SINGLISH_VOCAB = 'vocab/transducer-singlish.subword.subwords'\n",
    "TRANSDUCER_2048_VOCAB = 'vocab/transducer-2048.subword.subwords'\n",
    "\n",
    "CTC_VOCAB = 'vocab/ctc-bahasa.json'\n",
    "\n",
    "TRANSDUCER_VOCABS = {\n",
    "    'malay': TRANSDUCER_VOCAB,\n",
    "    'mixed': TRANSDUCER_MIXED_VOCAB,\n",
    "    'singlish': TRANSDUCER_SINGLISH_VOCAB,\n",
    "}\n",
    "\n",
    "def get_vocab(language):\n",
    "    return TRANSDUCER_VOCABS.get(language, TRANSDUCER_VOCABS['malay'])"
   ]
  },
  {
   "cell_type": "code",
   "execution_count": 4,
   "id": "1189e607",
   "metadata": {},
   "outputs": [],
   "source": [
    "quantized = False\n",
    "model = 'conformer'\n",
    "module = 'speech-to-text-transducer'\n",
    "path = check_file(\n",
    "    file=model,\n",
    "    module=module,\n",
    "    keys={'model': 'model.pb', 'vocab': get_vocab(model.split('-')[-1])},\n",
    "    quantized=quantized,\n",
    ")\n",
    "g = load_graph(path['model'])"
   ]
  },
  {
   "cell_type": "code",
   "execution_count": 5,
   "id": "692c3737",
   "metadata": {},
   "outputs": [
    {
     "name": "stderr",
     "output_type": "stream",
     "text": [
      "WARNING:root:Load quantized model will cause accuracy drop.\n"
     ]
    }
   ],
   "source": [
    "quantized = True\n",
    "model = 'conformer'\n",
    "module = 'speech-to-text-transducer'\n",
    "path = check_file(\n",
    "    file=model,\n",
    "    module=module,\n",
    "    keys={'model': 'model.pb', 'vocab': get_vocab(model.split('-')[-1])},\n",
    "    quantized=quantized,\n",
    ")\n",
    "g = load_graph(path['model'])"
   ]
  },
  {
   "cell_type": "code",
   "execution_count": null,
   "id": "sunset-abuse",
   "metadata": {},
   "outputs": [],
   "source": []
  }
 ],
 "metadata": {
  "kernelspec": {
   "display_name": "Python 3",
   "language": "python",
   "name": "python3"
  },
  "language_info": {
   "codemirror_mode": {
    "name": "ipython",
    "version": 3
   },
   "file_extension": ".py",
   "mimetype": "text/x-python",
   "name": "python",
   "nbconvert_exporter": "python",
   "pygments_lexer": "ipython3",
   "version": "3.7.7"
  }
 },
 "nbformat": 4,
 "nbformat_minor": 5
}
