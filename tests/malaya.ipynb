{
 "cells": [
  {
   "cell_type": "code",
   "execution_count": 1,
   "id": "a026590d",
   "metadata": {},
   "outputs": [],
   "source": [
    "version = '4.5'\n",
    "bump_version = '4.5.1'\n",
    "__version__ = bump_version\n",
    "\n",
    "import malaya_boilerplate\n",
    "\n",
    "malaya_boilerplate.__package__ = 'malaya'\n",
    "malaya_boilerplate.__url__ = 'https://f000.backblazeb2.com/file/malaya-model/'\n",
    "malaya_boilerplate.__package_version__ = version\n",
    "\n",
    "from malaya_boilerplate.utils import get_home\n",
    "\n",
    "__home__, _ = get_home()"
   ]
  },
  {
   "cell_type": "code",
   "execution_count": 2,
   "id": "54f4a227",
   "metadata": {},
   "outputs": [
    {
     "data": {
      "text/plain": [
       "<module 'malaya_boilerplate' from '/Users/huseinzolkepli/Documents/malaya-boilerplate/malaya_boilerplate/__init__.py'>"
      ]
     },
     "execution_count": 2,
     "metadata": {},
     "output_type": "execute_result"
    }
   ],
   "source": [
    "malaya_boilerplate"
   ]
  },
  {
   "cell_type": "code",
   "execution_count": 3,
   "id": "da07c7cb",
   "metadata": {},
   "outputs": [],
   "source": [
    "from malaya_boilerplate.backblaze import check_file\n",
    "from malaya_boilerplate.frozen_graph import (\n",
    "    nodes_session,\n",
    "    generate_session,\n",
    "    get_device,\n",
    "    load_graph,\n",
    ")"
   ]
  },
  {
   "cell_type": "code",
   "execution_count": 4,
   "id": "1b92a26a",
   "metadata": {},
   "outputs": [],
   "source": [
    "ALBERT_BPE_VOCAB = 'bpe/sp10m.cased.v10.vocab'\n",
    "ALBERT_BPE_MODEL = 'bpe/sp10m.cased.v10.model'\n",
    "\n",
    "MODEL_VOCAB = {\n",
    "    'albert': ALBERT_BPE_VOCAB,\n",
    "}\n",
    "\n",
    "MODEL_BPE = {\n",
    "    'albert': ALBERT_BPE_MODEL,\n",
    "}\n",
    "\n",
    "model = 'albert'\n",
    "class_name = 'sentiment'\n",
    "quantized = False\n",
    "path = check_file(\n",
    "    file=model,\n",
    "    module=class_name,\n",
    "    keys={\n",
    "        'model': 'model.pb',\n",
    "        'vocab': MODEL_VOCAB[model],\n",
    "        'tokenizer': MODEL_BPE[model],\n",
    "    },\n",
    "    quantized=quantized\n",
    ")\n",
    "g = load_graph(path['model'])"
   ]
  },
  {
   "cell_type": "code",
   "execution_count": 5,
   "id": "a0cd7f41",
   "metadata": {},
   "outputs": [
    {
     "name": "stderr",
     "output_type": "stream",
     "text": [
      "WARNING:root:Load quantized model will cause accuracy drop.\n"
     ]
    }
   ],
   "source": [
    "quantized = True\n",
    "path = check_file(\n",
    "    file=model,\n",
    "    module=class_name,\n",
    "    keys={\n",
    "        'model': 'model.pb',\n",
    "        'vocab': MODEL_VOCAB[model],\n",
    "        'tokenizer': MODEL_BPE[model],\n",
    "    },\n",
    "    quantized=quantized\n",
    ")\n",
    "g = load_graph(path['model'])"
   ]
  }
 ],
 "metadata": {
  "kernelspec": {
   "display_name": "Python 3",
   "language": "python",
   "name": "python3"
  },
  "language_info": {
   "codemirror_mode": {
    "name": "ipython",
    "version": 3
   },
   "file_extension": ".py",
   "mimetype": "text/x-python",
   "name": "python",
   "nbconvert_exporter": "python",
   "pygments_lexer": "ipython3",
   "version": "3.7.7"
  }
 },
 "nbformat": 4,
 "nbformat_minor": 5
}
